{
 "cells": [
  {
   "cell_type": "code",
   "execution_count": 5,
   "metadata": {},
   "outputs": [
    {
     "data": {
      "text/plain": [
       "32512"
      ]
     },
     "execution_count": 5,
     "metadata": {},
     "output_type": "execute_result"
    }
   ],
   "source": [
    "from gtts import gTTS \n",
    "  \n",
    "# This module is imported so that we can  \n",
    "# play the converted audio \n",
    "import os \n",
    "  \n",
    "# The text that you want to convert to audio \n",
    "mytext = 'Welcome to world of deadly coronavirus!'\n",
    "  \n",
    "# Language in which you want to convert \n",
    "language = 'en'\n",
    "  \n",
    "# Passing the text and language to the engine,  \n",
    "# here we have marked slow=False. Which tells  \n",
    "# the module that the converted audio should  \n",
    "# have a high speed \n",
    "myobj = gTTS(text=mytext, lang=language, slow=False) \n",
    "  \n",
    "# Saving the converted audio in a mp3 file named \n",
    "# welcome  \n",
    "myobj.save(\"welcome.mp3\") \n",
    "  \n",
    "# Playing the converted file \n",
    "os.system(\"mpg321 welcome.mp3\")"
   ]
  },
  {
   "cell_type": "code",
   "execution_count": 2,
   "metadata": {},
   "outputs": [],
   "source": [
    "import pyttsx3 \n",
    "  \n",
    "# initialisation \n",
    "engine = pyttsx3.init() \n",
    "  \n",
    "# testing \n",
    "engine.say(\"this is a translator\") \n",
    "engine.say(\"write any sentence or word you want to translate\") \n",
    "engine.runAndWait()"
   ]
  },
  {
   "cell_type": "code",
   "execution_count": 4,
   "metadata": {},
   "outputs": [
    {
     "name": "stderr",
     "output_type": "stream",
     "text": [
      "Exception in Tkinter callback\n",
      "Traceback (most recent call last):\n",
      "  File \"/Users/sayamsingla/anaconda3/lib/python3.7/tkinter/__init__.py\", line 1705, in __call__\n",
      "    return self.func(*args)\n",
      "  File \"<ipython-input-3-4ba05b661acf>\", line 37, in t\n",
      "    x=translation.text\n",
      "UnboundLocalError: local variable 'translation' referenced before assignment\n",
      "Exception in Tkinter callback\n",
      "Traceback (most recent call last):\n",
      "  File \"/Users/sayamsingla/anaconda3/lib/python3.7/tkinter/__init__.py\", line 1705, in __call__\n",
      "    return self.func(*args)\n",
      "  File \"/Users/sayamsingla/anaconda3/lib/python3.7/tkinter/__init__.py\", line 2061, in destroy\n",
      "    for c in list(self.children.values()): c.destroy()\n",
      "  File \"/Users/sayamsingla/anaconda3/lib/python3.7/tkinter/__init__.py\", line 2305, in destroy\n",
      "    self.tk.call('destroy', self._w)\n",
      "_tkinter.TclError: can't invoke \"destroy\" command: application has been destroyed\n"
     ]
    }
   ],
   "source": [
    "from tkinter import *\n",
    "from tkinter import ttk\n",
    "from googletrans import Translator\n",
    "import pyttsx3 \n",
    "import time\n",
    "master = Tk() \n",
    "master.title(\"translator\")\n",
    "master.geometry('350x200')\n",
    "Label(master, text='write here:',font=('Courier New',20)).grid(row=0,column=0) \n",
    "e1 = Entry(master) \n",
    "e1.grid(row=0, column=1) \n",
    "n =StringVar() \n",
    "Label(master,text=\"enter your language\",font=('Courier New',20)).grid(row=2,column=0)\n",
    "lchose=ttk.Combobox(master, width = 27, textvariable = n)\n",
    "lchose['values']=('german*','japanese','french*','Gujarati','hindi','Kannada','Italian','Russian')\n",
    "lchose.grid(row=2,column=1)\n",
    "\n",
    "def t():\n",
    "    word=e1.get()\n",
    "    translator= Translator(service_urls=[\"translate.google.com\"])\n",
    "    if lchose.get()=='japanese':\n",
    "        translation= translator.translate(word,dest='ja')\n",
    "    elif lchose.get()=='german*':\n",
    "        translation= translator.translate(word,dest='de')\n",
    "    elif lchose.get()=='french*':\n",
    "        translation= translator.translate(word,dest='fr')\n",
    "    elif lchose.get()=='Gujarati':\n",
    "        translation= translator.translate(word,dest='gu')\n",
    "    elif lchose.get()=='hindi':\n",
    "        translation= translator.translate(word,dest='hi')\n",
    "    elif lchose.get()=='Italian':\n",
    "        translation= translator.translate(word,dest='it')\n",
    "    elif lchose.get()=='Kannada':\n",
    "        translation= translator.translate(word,dest='kn')\n",
    "    elif lchose.get()=='Russian':\n",
    "        translation= translator.translate(word,dest='ru')\n",
    "    x=translation.text\n",
    "    lbl=Label(master,text=f'translated text is :{translation.text}',bg='yellow')\n",
    "    lbl.grid(row=20,column=1)\n",
    "    \n",
    "    engine = pyttsx3.init()\n",
    "    engine.setProperty('rate', 150) \n",
    "    time.sleep(10)\n",
    "   # engine.runAndWait() \n",
    "    engine.say(x) \n",
    "    engine.runAndWait() \n",
    "    \n",
    "btn=Button(master,text=\"translate\",bg=\"blue\",fg=\"white\",command=t)\n",
    "btn.grid(row=10,column=1)\n",
    "mainloop()"
   ]
  },
  {
   "cell_type": "code",
   "execution_count": null,
   "metadata": {},
   "outputs": [],
   "source": []
  }
 ],
 "metadata": {
  "kernelspec": {
   "display_name": "Python 3",
   "language": "python",
   "name": "python3"
  },
  "language_info": {
   "codemirror_mode": {
    "name": "ipython",
    "version": 3
   },
   "file_extension": ".py",
   "mimetype": "text/x-python",
   "name": "python",
   "nbconvert_exporter": "python",
   "pygments_lexer": "ipython3",
   "version": "3.7.7"
  }
 },
 "nbformat": 4,
 "nbformat_minor": 4
}
